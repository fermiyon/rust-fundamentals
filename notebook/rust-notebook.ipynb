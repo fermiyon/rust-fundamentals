{
 "cells": [
  {
   "cell_type": "code",
   "execution_count": null,
   "metadata": {
    "vscode": {
     "languageId": "rust"
    }
   },
   "outputs": [],
   "source": [
    "// Rust setup for jupyter\n",
    "// cargo install --locked evcxr_jupyter\n",
    "// evcxr_jupyter --install"
   ]
  },
  {
   "cell_type": "markdown",
   "metadata": {},
   "source": [
    "## Control FLow"
   ]
  },
  {
   "cell_type": "code",
   "execution_count": 12,
   "metadata": {
    "vscode": {
     "languageId": "rust"
    }
   },
   "outputs": [
    {
     "name": "stdout",
     "output_type": "stream",
     "text": [
      "condition was true\n"
     ]
    },
    {
     "data": {
      "text/plain": [
       "()"
      ]
     },
     "execution_count": 12,
     "metadata": {},
     "output_type": "execute_result"
    }
   ],
   "source": [
    "// Basic control flow example\n",
    "let num = 5;\n",
    "if num < 6 {\n",
    "    println!(\"condition was true\")\n",
    "}"
   ]
  },
  {
   "cell_type": "markdown",
   "metadata": {},
   "source": [
    "## Loop"
   ]
  },
  {
   "cell_type": "code",
   "execution_count": 14,
   "metadata": {
    "vscode": {
     "languageId": "rust"
    }
   },
   "outputs": [
    {
     "name": "stdout",
     "output_type": "stream",
     "text": [
      "x = 1\n",
      "x = 2\n",
      "x = 3\n",
      "x = 4\n"
     ]
    },
    {
     "data": {
      "text/plain": [
       "()"
      ]
     },
     "execution_count": 14,
     "metadata": {},
     "output_type": "execute_result"
    }
   ],
   "source": [
    "let mut x = 1;\n",
    "// continue looping until x> 5\n",
    "while x < 5 {\n",
    "    println!(\"x = {}\", x);\n",
    "    x += 1;\n",
    "}"
   ]
  },
  {
   "cell_type": "code",
   "execution_count": 15,
   "metadata": {
    "vscode": {
     "languageId": "rust"
    }
   },
   "outputs": [
    {
     "name": "stdout",
     "output_type": "stream",
     "text": [
      "x = 1\n",
      "x = 2\n",
      "x = 3\n",
      "x = 4\n",
      "x = 5\n"
     ]
    },
    {
     "data": {
      "text/plain": [
       "()"
      ]
     },
     "execution_count": 15,
     "metadata": {},
     "output_type": "execute_result"
    }
   ],
   "source": [
    "let mut x = 1;\n",
    "// continue looping until x> 5 with loop scope\n",
    "// Python equilievant of while True\n",
    "loop {\n",
    "    println!(\"x = {}\", x);\n",
    "    x += 1; // Shadowing - we are changing x value\n",
    "    if x > 5 {\n",
    "        break;\n",
    "    }\n",
    "}"
   ]
  },
  {
   "cell_type": "code",
   "execution_count": 12,
   "metadata": {
    "vscode": {
     "languageId": "rust"
    }
   },
   "outputs": [
    {
     "name": "stdout",
     "output_type": "stream",
     "text": [
      "i = 1\n",
      "i = 2\n",
      "i = 3\n",
      "i = 4\n",
      "i = 6\n",
      "i = 7\n",
      "i = 8\n",
      "i = 9\n"
     ]
    },
    {
     "data": {
      "text/plain": [
       "()"
      ]
     },
     "execution_count": 12,
     "metadata": {},
     "output_type": "execute_result"
    }
   ],
   "source": [
    "// the for loop using a range\n",
    "\n",
    "for i in 1..10 {\n",
    "    if i == 5 {\n",
    "        continue;\n",
    "    }\n",
    "\n",
    "    println!(\"i = {}\", i);\n",
    "}\n"
   ]
  },
  {
   "cell_type": "code",
   "execution_count": 11,
   "metadata": {
    "vscode": {
     "languageId": "rust"
    }
   },
   "outputs": [
    {
     "name": "stdout",
     "output_type": "stream",
     "text": [
      "i = 1\n",
      "i = 2\n",
      "i = 3\n",
      "i = 4\n",
      "i = 6\n",
      "i = 7\n",
      "i = 8\n",
      "i = 9\n",
      "i = 10\n"
     ]
    },
    {
     "data": {
      "text/plain": [
       "()"
      ]
     },
     "execution_count": 11,
     "metadata": {},
     "output_type": "execute_result"
    }
   ],
   "source": [
    "// the for loop using a range\n",
    "\n",
    "for i in 1..=10 {\n",
    "    if i == 5 {\n",
    "        continue;\n",
    "    }\n",
    "\n",
    "    println!(\"i = {}\", i);\n",
    "}\n"
   ]
  },
  {
   "cell_type": "code",
   "execution_count": 4,
   "metadata": {
    "vscode": {
     "languageId": "rust"
    }
   },
   "outputs": [
    {
     "name": "stdout",
     "output_type": "stream",
     "text": [
      "3\n",
      "2\n",
      "1\n"
     ]
    },
    {
     "data": {
      "text/plain": [
       "()"
      ]
     },
     "execution_count": 4,
     "metadata": {},
     "output_type": "execute_result"
    }
   ],
   "source": [
    "// the for loop using a range reversed\n",
    "\n",
    "for number in (1..4).rev() {\n",
    "    println!(\"{}\", number);\n",
    "}"
   ]
  },
  {
   "cell_type": "code",
   "execution_count": 7,
   "metadata": {
    "vscode": {
     "languageId": "rust"
    }
   },
   "outputs": [
    {
     "name": "stdout",
     "output_type": "stream",
     "text": [
      "1\n",
      "2\n",
      "3\n",
      "4\n",
      "5\n"
     ]
    },
    {
     "data": {
      "text/plain": [
       "()"
      ]
     },
     "execution_count": 7,
     "metadata": {},
     "output_type": "execute_result"
    }
   ],
   "source": [
    "let numbers = vec![1,2,3,4,5];\n",
    "for num in numbers{\n",
    "    //Print\n",
    "    println!(\"{}\",num)\n",
    "}"
   ]
  },
  {
   "cell_type": "code",
   "execution_count": 17,
   "metadata": {
    "vscode": {
     "languageId": "rust"
    }
   },
   "outputs": [
    {
     "name": "stdout",
     "output_type": "stream",
     "text": [
      "1\n",
      "3\n",
      "5\n"
     ]
    },
    {
     "data": {
      "text/plain": [
       "()"
      ]
     },
     "execution_count": 17,
     "metadata": {},
     "output_type": "execute_result"
    }
   ],
   "source": [
    "// For loop with range break and continue example\n",
    "\n",
    "for i in 1..=10 {\n",
    "    // Exit loop\n",
    "    if i == 7 {\n",
    "        break;\n",
    "    }\n",
    "    // Skip even numbers\n",
    "    if i % 2 == 0 {\n",
    "        continue;\n",
    "    }\n",
    "    println!(\"{}\", i);\n",
    "}"
   ]
  },
  {
   "cell_type": "markdown",
   "metadata": {},
   "source": [
    "## Conditional Statements - Pattern matching"
   ]
  },
  {
   "cell_type": "code",
   "execution_count": 19,
   "metadata": {
    "vscode": {
     "languageId": "rust"
    }
   },
   "outputs": [
    {
     "name": "stdout",
     "output_type": "stream",
     "text": [
      "5\n"
     ]
    },
    {
     "data": {
      "text/plain": [
       "()"
      ]
     },
     "execution_count": 19,
     "metadata": {},
     "output_type": "execute_result"
    }
   ],
   "source": [
    "let maybe_number = Some(5);\n",
    "if let Some(number) = maybe_number {\n",
    "    println!(\"{}\", number);\n",
    "}"
   ]
  },
  {
   "cell_type": "code",
   "execution_count": 33,
   "metadata": {
    "vscode": {
     "languageId": "rust"
    }
   },
   "outputs": [
    {
     "name": "stdout",
     "output_type": "stream",
     "text": [
      "It is a number: 5\n"
     ]
    },
    {
     "data": {
      "text/plain": [
       "()"
      ]
     },
     "execution_count": 33,
     "metadata": {},
     "output_type": "execute_result"
    }
   ],
   "source": [
    "let maybe_number = Some(5);\n",
    "\n",
    "match maybe_number {\n",
    "    Some(number) => println!(\"It is a number: {}\", number),\n",
    "    None => println!(\"It is None\"),\n",
    "}"
   ]
  },
  {
   "cell_type": "code",
   "execution_count": 20,
   "metadata": {
    "vscode": {
     "languageId": "rust"
    }
   },
   "outputs": [
    {
     "name": "stdout",
     "output_type": "stream",
     "text": [
      "It is a number: 65\n"
     ]
    },
    {
     "data": {
      "text/plain": [
       "()"
      ]
     },
     "execution_count": 20,
     "metadata": {},
     "output_type": "execute_result"
    }
   ],
   "source": [
    "let maybe_number = Some(65);\n",
    "\n",
    "match maybe_number {\n",
    "    Some(5) => println!(\"It is 5\"),\n",
    "    Some(number) => println!(\"It is a number: {}\", number),\n",
    "    None => println!(\"It is None\"),\n",
    "}"
   ]
  },
  {
   "cell_type": "code",
   "execution_count": 27,
   "metadata": {
    "vscode": {
     "languageId": "rust"
    }
   },
   "outputs": [
    {
     "name": "stdout",
     "output_type": "stream",
     "text": [
      "Hi! Nice to meet you\n"
     ]
    },
    {
     "data": {
      "text/plain": [
       "()"
      ]
     },
     "execution_count": 27,
     "metadata": {},
     "output_type": "execute_result"
    }
   ],
   "source": [
    "let name = \"Hello\";\n",
    "\n",
    "// use of match expression to pattern match against variable \"name\"\n",
    "match name {\n",
    "    \"Hello\" => println!(\"Hi! Nice to meet you\"),\n",
    "    \"Good Bye\" => println!(\"Sorry to see you go\"),\n",
    "    _ => println!(\"Nothing\"),\n",
    "}"
   ]
  },
  {
   "cell_type": "markdown",
   "metadata": {},
   "source": [
    "## Functions"
   ]
  },
  {
   "cell_type": "markdown",
   "metadata": {},
   "source": [
    "### Unit function"
   ]
  },
  {
   "cell_type": "markdown",
   "metadata": {},
   "source": [
    "Rust’s Design Philosophy\n",
    "Rust emphasizes memory safety and performance. By requiring explicit references with &, Rust ensures that developers are always aware of ownership and borrowing rules. This helps prevent common bugs related to memory management, such as dangling pointers or data races.\n",
    "\n",
    "Ownership and Borrowing:\n",
    "\n",
    "Ownership: Each value in Rust has a single owner. When the owner goes out of scope, the value is dropped.\n",
    "\n",
    "Borrowing: Using & allows you to borrow a reference to a value without taking ownership. This ensures that the original value remains valid and can be used elsewhere.\n",
    "\n",
    "Performance:\n",
    "By default, Rust moves values (transfers ownership) when passing them to functions. This avoids unnecessary copying, which can be costly in terms of performance.\n",
    "\n",
    "Using & to pass references avoids copying large data structures, making the code more efficient."
   ]
  },
  {
   "cell_type": "code",
   "execution_count": 32,
   "metadata": {
    "vscode": {
     "languageId": "rust"
    }
   },
   "outputs": [
    {
     "name": "stdout",
     "output_type": "stream",
     "text": [
      "The sum is even.\n"
     ]
    }
   ],
   "source": [
    "// a unit function that doesn't return anything\n",
    "fn print_sum(numbers: &[i32]) {\n",
    "    let sum:i32 = numbers.iter().sum(); // Calculate the sum of elements in slice\n",
    "    if sum % 2 == 0 {               // Check if sum is even\n",
    "        println!(\"The sum is even.\");\n",
    "    } else {\n",
    "        println!(\"The sum is odd.\");\n",
    "    }\n",
    "}\n",
    "\n",
    "let numbers = [1, 2, 3];      // Define a slice of integers\n",
    "print_sum(&numbers);          // Call the unit function with the slice as an argument"
   ]
  },
  {
   "cell_type": "markdown",
   "metadata": {},
   "source": [
    "### Panic"
   ]
  },
  {
   "cell_type": "code",
   "execution_count": 33,
   "metadata": {
    "vscode": {
     "languageId": "rust"
    }
   },
   "outputs": [
    {
     "name": "stderr",
     "output_type": "stream",
     "text": [
      "thread '<unnamed>' panicked at src/lib.rs:25:13:\n",
      "Negative number found at index 3\n",
      "stack backtrace:\n",
      "   0: _rust_begin_unwind\n",
      "   1: core::panicking::panic_fmt\n",
      "   2: _run_user_code_24\n",
      "   3: evcxr::runtime::Runtime::run_loop\n",
      "   4: evcxr::runtime::runtime_hook\n",
      "   5: evcxr_jupyter::main\n"
     ]
    },
    {
     "name": "stderr",
     "output_type": "stream",
     "text": [
      "note: Some details are omitted, run with `RUST_BACKTRACE=full` for a verbose backtrace.\n"
     ]
    }
   ],
   "source": [
    "fn process_numbers(slice: &[i32]) {\n",
    "    for (index, number) in slice.iter().enumerate() {\n",
    "        if *number < 0 {\n",
    "            panic!(\"Negative number found at index {}\", index); // Stop execution and show error message\n",
    "        }\n",
    "    }\n",
    "}\n",
    "\n",
    "let numbers = [1, 2, 3, -5];   // Include a negative number to trigger the panic\n",
    "process_numbers(&numbers);"
   ]
  },
  {
   "cell_type": "markdown",
   "metadata": {},
   "source": [
    "### Function arguments"
   ]
  },
  {
   "cell_type": "code",
   "execution_count": 34,
   "metadata": {
    "vscode": {
     "languageId": "rust"
    }
   },
   "outputs": [
    {
     "name": "stdout",
     "output_type": "stream",
     "text": [
      "The sum is 15\n"
     ]
    }
   ],
   "source": [
    "fn sum(numbers: &[i32]) -> i32 {\n",
    "    let mut result = 0;\n",
    "    for number in numbers {\n",
    "        result += number;\n",
    "    }\n",
    "    result\n",
    "}\n",
    "\n",
    "let numbers = [1, 2, 3, 4, 5];\n",
    "let result = sum(&numbers);\n",
    "println!(\"The sum is {}\", result);"
   ]
  },
  {
   "cell_type": "markdown",
   "metadata": {},
   "source": [
    "### Borrowing"
   ]
  },
  {
   "cell_type": "markdown",
   "metadata": {},
   "source": [
    "Borrowing is the mechanism by which Rust allows you to lend ownership of a variable to a function \n",
    "\n",
    "or another part of your program without actually transferring ownership of the variable. \n",
    "\n",
    "When you borrow a variable, you're essentially saying \n",
    "\n",
    "\"I want to use this variable for a little while, but I promise I won't modify it.\""
   ]
  },
  {
   "cell_type": "markdown",
   "metadata": {},
   "source": [
    "Borrowing is a key concept in Rust because it allows you to write code that is both safe and efficient. \n",
    "By lending ownership of a variable instead of transferring it, Rust ensures that only \n",
    "one part of your program can modify the variable at a time, which helps prevent \n",
    "bugs and makes it easier to reason about your code."
   ]
  },
  {
   "cell_type": "code",
   "execution_count": 36,
   "metadata": {
    "vscode": {
     "languageId": "rust"
    }
   },
   "outputs": [
    {
     "name": "stdout",
     "output_type": "stream",
     "text": [
      "10\n",
      "Hello, world!\n",
      "[1, 2, 3, 4, 5, 10]\n"
     ]
    }
   ],
   "source": [
    "fn own_vec(mut vector: Vec<i32>) {\n",
    "    vector.push(10);\n",
    "    println!(\"{:?}\", vector);\n",
    "}\n",
    "\n",
    "fn own_integer(x: i32) {\n",
    "    x + 1;\n",
    "}\n",
    "\n",
    "fn own_string(s: String) {\n",
    "    println!(\"{}\", s);\n",
    "}\n",
    "\n",
    "let mut my_vec = vec![1, 2, 3, 4, 5];\n",
    "let my_int = 10;\n",
    "let my_string = String::from(\"Hello, world!\");\n",
    "\n",
    "// this compiles no problem!\n",
    "own_integer(my_int);\n",
    "println!(\"{}\", my_int);\n",
    "\n",
    "own_string(my_string); // take ownership of my_string\n",
    "// this is using my_string which has also moved and is invalid\n",
    "//println!(\"{:?}\", my_string); // this will not compile!\n",
    "\n",
    "own_vec(my_vec);\n",
    "// but this is using my_vec which was borrowed (moved) and yet is now invalid\n",
    "//println!(\"{:?}\", my_vec); // this will not compile!"
   ]
  },
  {
   "cell_type": "code",
   "execution_count": 42,
   "metadata": {
    "vscode": {
     "languageId": "rust"
    }
   },
   "outputs": [
    {
     "name": "stdout",
     "output_type": "stream",
     "text": [
      "Greeting: Hello\n"
     ]
    },
    {
     "name": "stdout",
     "output_type": "stream",
     "text": [
      "Greeting: Hello\n"
     ]
    }
   ],
   "source": [
    "// ref: https://learn.microsoft.com/en-us/training/modules/rust-memory-management/2-learn-about-borrowing\n",
    "fn print_greeting(message: &String) {\n",
    "  println!(\"Greeting: {}\", message);\n",
    "}\n",
    "\n",
    "\n",
    "let greeting = String::from(\"Hello\");\n",
    "print_greeting(&greeting); // `print_greeting` takes a `&String` not an owned `String` so we borrow `greeting` with `&`\n",
    "print_greeting(&greeting); // Since `greeting` didn't move into `print_greeting` we can use it again\n"
   ]
  },
  {
   "cell_type": "markdown",
   "metadata": {},
   "source": [
    "### Mutate borrowed values"
   ]
  },
  {
   "cell_type": "code",
   "execution_count": 44,
   "metadata": {
    "vscode": {
     "languageId": "rust"
    }
   },
   "outputs": [
    {
     "ename": "Error",
     "evalue": "cannot borrow `*message` as mutable, as it is behind a `&` reference",
     "output_type": "error",
     "traceback": [
      "\u001b[31m[E0596] Error:\u001b[0m cannot borrow `*message` as mutable, as it is behind a `&` reference",
      "   \u001b[38;5;246m╭\u001b[0m\u001b[38;5;246m─\u001b[0m\u001b[38;5;246m[\u001b[0mcommand_44:1:1\u001b[38;5;246m]\u001b[0m",
      "   \u001b[38;5;246m│\u001b[0m",
      " \u001b[38;5;246m2 │\u001b[0m \u001b[38;5;249mf\u001b[0m\u001b[38;5;249mn\u001b[0m\u001b[38;5;249m \u001b[0m\u001b[38;5;249mc\u001b[0m\u001b[38;5;249mh\u001b[0m\u001b[38;5;249ma\u001b[0m\u001b[38;5;249mn\u001b[0m\u001b[38;5;249mg\u001b[0m\u001b[38;5;249me\u001b[0m\u001b[38;5;249m(\u001b[0m\u001b[38;5;249mm\u001b[0m\u001b[38;5;249me\u001b[0m\u001b[38;5;249ms\u001b[0m\u001b[38;5;249ms\u001b[0m\u001b[38;5;249ma\u001b[0m\u001b[38;5;249mg\u001b[0m\u001b[38;5;249me\u001b[0m\u001b[38;5;249m:\u001b[0m\u001b[38;5;249m \u001b[0m\u001b[38;5;249m&\u001b[0m\u001b[38;5;249mS\u001b[0m\u001b[38;5;249mt\u001b[0m\u001b[38;5;249mr\u001b[0m\u001b[38;5;249mi\u001b[0m\u001b[38;5;249mn\u001b[0m\u001b[38;5;249mg\u001b[0m\u001b[38;5;249m)\u001b[0m\u001b[38;5;249m \u001b[0m\u001b[38;5;249m{\u001b[0m",
      " \u001b[38;5;240m  │\u001b[0m                     \u001b[38;5;100m│\u001b[0m ",
      " \u001b[38;5;240m  │\u001b[0m                     \u001b[38;5;100m╰\u001b[0m\u001b[38;5;100m─\u001b[0m help: consider changing this to be a mutable reference: `mut `",
      " \u001b[38;5;246m3 │\u001b[0m \u001b[38;5;249m \u001b[0m\u001b[38;5;249m \u001b[0m\u001b[38;5;54mm\u001b[0m\u001b[38;5;54me\u001b[0m\u001b[38;5;54ms\u001b[0m\u001b[38;5;54ms\u001b[0m\u001b[38;5;54ma\u001b[0m\u001b[38;5;54mg\u001b[0m\u001b[38;5;54me\u001b[0m\u001b[38;5;249m.\u001b[0m\u001b[38;5;249mp\u001b[0m\u001b[38;5;249mu\u001b[0m\u001b[38;5;249ms\u001b[0m\u001b[38;5;249mh\u001b[0m\u001b[38;5;249m_\u001b[0m\u001b[38;5;249ms\u001b[0m\u001b[38;5;249mt\u001b[0m\u001b[38;5;249mr\u001b[0m\u001b[38;5;249m(\u001b[0m\u001b[38;5;249m\"\u001b[0m\u001b[38;5;249m!\u001b[0m\u001b[38;5;249m\"\u001b[0m\u001b[38;5;249m)\u001b[0m\u001b[38;5;249m;\u001b[0m\u001b[38;5;249m \u001b[0m\u001b[38;5;249m/\u001b[0m\u001b[38;5;249m/\u001b[0m\u001b[38;5;249m \u001b[0m\u001b[38;5;249mW\u001b[0m\u001b[38;5;249me\u001b[0m\u001b[38;5;249m \u001b[0m\u001b[38;5;249mt\u001b[0m\u001b[38;5;249mr\u001b[0m\u001b[38;5;249my\u001b[0m\u001b[38;5;249m \u001b[0m\u001b[38;5;249mt\u001b[0m\u001b[38;5;249mo\u001b[0m\u001b[38;5;249m \u001b[0m\u001b[38;5;249ma\u001b[0m\u001b[38;5;249md\u001b[0m\u001b[38;5;249md\u001b[0m\u001b[38;5;249m \u001b[0m\u001b[38;5;249ma\u001b[0m\u001b[38;5;249m \u001b[0m\u001b[38;5;249m\"\u001b[0m\u001b[38;5;249m!\u001b[0m\u001b[38;5;249m\"\u001b[0m\u001b[38;5;249m \u001b[0m\u001b[38;5;249mt\u001b[0m\u001b[38;5;249mo\u001b[0m\u001b[38;5;249m \u001b[0m\u001b[38;5;249mt\u001b[0m\u001b[38;5;249mh\u001b[0m\u001b[38;5;249me\u001b[0m\u001b[38;5;249m \u001b[0m\u001b[38;5;249me\u001b[0m\u001b[38;5;249mn\u001b[0m\u001b[38;5;249md\u001b[0m\u001b[38;5;249m \u001b[0m\u001b[38;5;249mo\u001b[0m\u001b[38;5;249mf\u001b[0m\u001b[38;5;249m \u001b[0m\u001b[38;5;249mo\u001b[0m\u001b[38;5;249mu\u001b[0m\u001b[38;5;249mr\u001b[0m\u001b[38;5;249m \u001b[0m\u001b[38;5;249mm\u001b[0m\u001b[38;5;249me\u001b[0m\u001b[38;5;249ms\u001b[0m\u001b[38;5;249ms\u001b[0m\u001b[38;5;249ma\u001b[0m\u001b[38;5;249mg\u001b[0m\u001b[38;5;249me\u001b[0m",
      " \u001b[38;5;240m  │\u001b[0m   \u001b[38;5;54m─\u001b[0m\u001b[38;5;54m─\u001b[0m\u001b[38;5;54m─\u001b[0m\u001b[38;5;54m┬\u001b[0m\u001b[38;5;54m─\u001b[0m\u001b[38;5;54m─\u001b[0m\u001b[38;5;54m─\u001b[0m  ",
      " \u001b[38;5;240m  │\u001b[0m      \u001b[38;5;54m╰\u001b[0m\u001b[38;5;54m─\u001b[0m\u001b[38;5;54m─\u001b[0m\u001b[38;5;54m─\u001b[0m\u001b[38;5;54m─\u001b[0m\u001b[38;5;54m─\u001b[0m `message` is a `&` reference, so the data it refers to cannot be borrowed as mutable",
      " \u001b[38;5;240m  │\u001b[0m ",
      " \u001b[38;5;240m  │\u001b[0m \u001b[38;5;115mNote\u001b[0m: You can change an existing variable to mutable like: `let mut x = x;`",
      "\u001b[38;5;246m───╯\u001b[0m"
     ]
    }
   ],
   "source": [
    "// ref: https://learn.microsoft.com/en-us/training/modules/rust-memory-management/2-learn-about-borrowing\n",
    "fn change(message: &String) {\n",
    "  message.push_str(\"!\"); // We try to add a \"!\" to the end of our message\n",
    "}\n",
    "\n",
    "\n",
    "let greeting = String::from(\"Hello\");\n",
    "change(&greeting); "
   ]
  },
  {
   "cell_type": "code",
   "execution_count": 46,
   "metadata": {
    "vscode": {
     "languageId": "rust"
    }
   },
   "outputs": [
    {
     "data": {
      "text/plain": [
       "\"hello, world\""
      ]
     },
     "execution_count": 46,
     "metadata": {},
     "output_type": "execute_result"
    }
   ],
   "source": [
    "fn change(text: &mut String) {\n",
    "    text.push_str(\", world\");\n",
    "}\n",
    "\n",
    "\n",
    "let mut greeting = String::from(\"hello\");\n",
    "change(&mut greeting);\n",
    "greeting"
   ]
  },
  {
   "cell_type": "markdown",
   "metadata": {},
   "source": [
    "### Ownership"
   ]
  },
  {
   "cell_type": "markdown",
   "metadata": {},
   "source": [
    "Unlike other languages like Python, In Rust, ownership transfer (that is, moving) is the default behaviour."
   ]
  },
  {
   "cell_type": "code",
   "execution_count": 40,
   "metadata": {
    "vscode": {
     "languageId": "rust"
    }
   },
   "outputs": [
    {
     "ename": "Error",
     "evalue": "use of moved value: `s`",
     "output_type": "error",
     "traceback": [
      "\u001b[31m[E0382] Error:\u001b[0m use of moved value: `s`",
      "   \u001b[38;5;246m╭\u001b[0m\u001b[38;5;246m─\u001b[0m\u001b[38;5;246m[\u001b[0mcommand_40:1:1\u001b[38;5;246m]\u001b[0m",
      "   \u001b[38;5;246m│\u001b[0m",
      " \u001b[38;5;246m4 │\u001b[0m \u001b[38;5;249m \u001b[0m\u001b[38;5;249m \u001b[0m\u001b[38;5;249m \u001b[0m\u001b[38;5;249m \u001b[0m\u001b[38;5;249ml\u001b[0m\u001b[38;5;249me\u001b[0m\u001b[38;5;249mt\u001b[0m\u001b[38;5;249m \u001b[0m\u001b[38;5;68ms\u001b[0m\u001b[38;5;249m \u001b[0m\u001b[38;5;249m=\u001b[0m\u001b[38;5;249m \u001b[0m\u001b[38;5;249mS\u001b[0m\u001b[38;5;249mt\u001b[0m\u001b[38;5;249mr\u001b[0m\u001b[38;5;249mi\u001b[0m\u001b[38;5;249mn\u001b[0m\u001b[38;5;249mg\u001b[0m\u001b[38;5;249m:\u001b[0m\u001b[38;5;249m:\u001b[0m\u001b[38;5;249mf\u001b[0m\u001b[38;5;249mr\u001b[0m\u001b[38;5;249mo\u001b[0m\u001b[38;5;249mm\u001b[0m\u001b[38;5;249m(\u001b[0m\u001b[38;5;249m\"\u001b[0m\u001b[38;5;249mH\u001b[0m\u001b[38;5;249me\u001b[0m\u001b[38;5;249ml\u001b[0m\u001b[38;5;249ml\u001b[0m\u001b[38;5;249mo\u001b[0m\u001b[38;5;249m,\u001b[0m\u001b[38;5;249m \u001b[0m\u001b[38;5;249mw\u001b[0m\u001b[38;5;249mo\u001b[0m\u001b[38;5;249mr\u001b[0m\u001b[38;5;249ml\u001b[0m\u001b[38;5;249md\u001b[0m\u001b[38;5;249m!\u001b[0m\u001b[38;5;249m\"\u001b[0m\u001b[38;5;249m)\u001b[0m\u001b[38;5;249m;\u001b[0m",
      " \u001b[38;5;240m  │\u001b[0m         \u001b[38;5;68m┬\u001b[0m  ",
      " \u001b[38;5;240m  │\u001b[0m         \u001b[38;5;68m╰\u001b[0m\u001b[38;5;68m─\u001b[0m\u001b[38;5;68m─\u001b[0m move occurs because `s` has type `String`, which does not implement the `Copy` trait",
      " \u001b[38;5;246m5 │\u001b[0m \u001b[38;5;249m \u001b[0m\u001b[38;5;249m \u001b[0m\u001b[38;5;249m \u001b[0m\u001b[38;5;249m \u001b[0m\u001b[38;5;249mp\u001b[0m\u001b[38;5;249mr\u001b[0m\u001b[38;5;249mo\u001b[0m\u001b[38;5;249mc\u001b[0m\u001b[38;5;249me\u001b[0m\u001b[38;5;249ms\u001b[0m\u001b[38;5;249ms\u001b[0m\u001b[38;5;249m(\u001b[0m\u001b[38;5;54ms\u001b[0m\u001b[38;5;249m)\u001b[0m\u001b[38;5;249m;\u001b[0m\u001b[38;5;249m \u001b[0m\u001b[38;5;249m/\u001b[0m\u001b[38;5;249m/\u001b[0m\u001b[38;5;249m \u001b[0m\u001b[38;5;249mO\u001b[0m\u001b[38;5;249mw\u001b[0m\u001b[38;5;249mn\u001b[0m\u001b[38;5;249me\u001b[0m\u001b[38;5;249mr\u001b[0m\u001b[38;5;249ms\u001b[0m\u001b[38;5;249mh\u001b[0m\u001b[38;5;249mi\u001b[0m\u001b[38;5;249mp\u001b[0m\u001b[38;5;249m \u001b[0m\u001b[38;5;249mo\u001b[0m\u001b[38;5;249mf\u001b[0m\u001b[38;5;249m \u001b[0m\u001b[38;5;249mt\u001b[0m\u001b[38;5;249mh\u001b[0m\u001b[38;5;249me\u001b[0m\u001b[38;5;249m \u001b[0m\u001b[38;5;249ms\u001b[0m\u001b[38;5;249mt\u001b[0m\u001b[38;5;249mr\u001b[0m\u001b[38;5;249mi\u001b[0m\u001b[38;5;249mn\u001b[0m\u001b[38;5;249mg\u001b[0m\u001b[38;5;249m \u001b[0m\u001b[38;5;249mi\u001b[0m\u001b[38;5;249mn\u001b[0m\u001b[38;5;249m \u001b[0m\u001b[38;5;249m`\u001b[0m\u001b[38;5;249ms\u001b[0m\u001b[38;5;249m`\u001b[0m\u001b[38;5;249m \u001b[0m\u001b[38;5;249mm\u001b[0m\u001b[38;5;249mo\u001b[0m\u001b[38;5;249mv\u001b[0m\u001b[38;5;249me\u001b[0m\u001b[38;5;249md\u001b[0m\u001b[38;5;249m \u001b[0m\u001b[38;5;249mi\u001b[0m\u001b[38;5;249mn\u001b[0m\u001b[38;5;249mt\u001b[0m\u001b[38;5;249mo\u001b[0m\u001b[38;5;249m \u001b[0m\u001b[38;5;249m`\u001b[0m\u001b[38;5;249mp\u001b[0m\u001b[38;5;249mr\u001b[0m\u001b[38;5;249mo\u001b[0m\u001b[38;5;249mc\u001b[0m\u001b[38;5;249me\u001b[0m\u001b[38;5;249ms\u001b[0m\u001b[38;5;249ms\u001b[0m\u001b[38;5;249m`\u001b[0m",
      " \u001b[38;5;240m  │\u001b[0m             \u001b[38;5;54m┬\u001b[0m\u001b[38;5;37m│\u001b[0m ",
      " \u001b[38;5;240m  │\u001b[0m             \u001b[38;5;54m╰\u001b[0m\u001b[38;5;54m─\u001b[0m\u001b[38;5;54m─\u001b[0m value moved here",
      " \u001b[38;5;240m  │\u001b[0m              \u001b[38;5;37m│\u001b[0m ",
      " \u001b[38;5;240m  │\u001b[0m              \u001b[38;5;37m╰\u001b[0m\u001b[38;5;37m─\u001b[0m help: consider cloning the value if the performance cost is acceptable: `.clone()`",
      " \u001b[38;5;246m6 │\u001b[0m \u001b[38;5;249m \u001b[0m\u001b[38;5;249m \u001b[0m\u001b[38;5;249m \u001b[0m\u001b[38;5;249m \u001b[0m\u001b[38;5;249mp\u001b[0m\u001b[38;5;249mr\u001b[0m\u001b[38;5;249mo\u001b[0m\u001b[38;5;249mc\u001b[0m\u001b[38;5;249me\u001b[0m\u001b[38;5;249ms\u001b[0m\u001b[38;5;249ms\u001b[0m\u001b[38;5;249m(\u001b[0m\u001b[38;5;100ms\u001b[0m\u001b[38;5;249m)\u001b[0m\u001b[38;5;249m;\u001b[0m\u001b[38;5;249m \u001b[0m\u001b[38;5;249m/\u001b[0m\u001b[38;5;249m/\u001b[0m\u001b[38;5;249m \u001b[0m\u001b[38;5;249mE\u001b[0m\u001b[38;5;249mr\u001b[0m\u001b[38;5;249mr\u001b[0m\u001b[38;5;249mo\u001b[0m\u001b[38;5;249mr\u001b[0m\u001b[38;5;249m!\u001b[0m\u001b[38;5;249m \u001b[0m\u001b[38;5;249mo\u001b[0m\u001b[38;5;249mw\u001b[0m\u001b[38;5;249mn\u001b[0m\u001b[38;5;249me\u001b[0m\u001b[38;5;249mr\u001b[0m\u001b[38;5;249ms\u001b[0m\u001b[38;5;249mh\u001b[0m\u001b[38;5;249mi\u001b[0m\u001b[38;5;249mp\u001b[0m\u001b[38;5;249m \u001b[0m\u001b[38;5;249ma\u001b[0m\u001b[38;5;249ml\u001b[0m\u001b[38;5;249mr\u001b[0m\u001b[38;5;249me\u001b[0m\u001b[38;5;249ma\u001b[0m\u001b[38;5;249md\u001b[0m\u001b[38;5;249my\u001b[0m\u001b[38;5;249m \u001b[0m\u001b[38;5;249mm\u001b[0m\u001b[38;5;249mo\u001b[0m\u001b[38;5;249mv\u001b[0m\u001b[38;5;249me\u001b[0m\u001b[38;5;249md\u001b[0m\u001b[38;5;249m.\u001b[0m",
      " \u001b[38;5;240m  │\u001b[0m             \u001b[38;5;100m┬\u001b[0m  ",
      " \u001b[38;5;240m  │\u001b[0m             \u001b[38;5;100m╰\u001b[0m\u001b[38;5;100m─\u001b[0m\u001b[38;5;100m─\u001b[0m value used here after move",
      "\u001b[38;5;246m───╯\u001b[0m"
     ]
    },
    {
     "ename": "Error",
     "evalue": "unused variable: `input`",
     "output_type": "error",
     "traceback": [
      "\u001b[31m[unused_variables] Error:\u001b[0m unused variable: `input`",
      "   \u001b[38;5;246m╭\u001b[0m\u001b[38;5;246m─\u001b[0m\u001b[38;5;246m[\u001b[0mcommand_40:1:1\u001b[38;5;246m]\u001b[0m",
      "   \u001b[38;5;246m│\u001b[0m",
      " \u001b[38;5;246m1 │\u001b[0m \u001b[38;5;249mf\u001b[0m\u001b[38;5;249mn\u001b[0m\u001b[38;5;249m \u001b[0m\u001b[38;5;249mp\u001b[0m\u001b[38;5;249mr\u001b[0m\u001b[38;5;249mo\u001b[0m\u001b[38;5;249mc\u001b[0m\u001b[38;5;249me\u001b[0m\u001b[38;5;249ms\u001b[0m\u001b[38;5;249ms\u001b[0m\u001b[38;5;249m(\u001b[0m\u001b[38;5;54mi\u001b[0m\u001b[38;5;54mn\u001b[0m\u001b[38;5;54mp\u001b[0m\u001b[38;5;54mu\u001b[0m\u001b[38;5;54mt\u001b[0m\u001b[38;5;249m:\u001b[0m\u001b[38;5;249m \u001b[0m\u001b[38;5;249mS\u001b[0m\u001b[38;5;249mt\u001b[0m\u001b[38;5;249mr\u001b[0m\u001b[38;5;249mi\u001b[0m\u001b[38;5;249mn\u001b[0m\u001b[38;5;249mg\u001b[0m\u001b[38;5;249m)\u001b[0m\u001b[38;5;249m \u001b[0m\u001b[38;5;249m{\u001b[0m\u001b[38;5;249m}\u001b[0m",
      " \u001b[38;5;240m  │\u001b[0m            \u001b[38;5;54m─\u001b[0m\u001b[38;5;54m─\u001b[0m\u001b[38;5;54m┬\u001b[0m\u001b[38;5;54m─\u001b[0m\u001b[38;5;54m─\u001b[0m  ",
      " \u001b[38;5;240m  │\u001b[0m              \u001b[38;5;54m╰\u001b[0m\u001b[38;5;54m─\u001b[0m\u001b[38;5;54m─\u001b[0m\u001b[38;5;54m─\u001b[0m\u001b[38;5;54m─\u001b[0m warning: unused variable: `input`",
      " \u001b[38;5;240m  │\u001b[0m              \u001b[38;5;100m│\u001b[0m    ",
      " \u001b[38;5;240m  │\u001b[0m              \u001b[38;5;100m╰\u001b[0m\u001b[38;5;100m─\u001b[0m\u001b[38;5;100m─\u001b[0m\u001b[38;5;100m─\u001b[0m\u001b[38;5;100m─\u001b[0m help: if this is intentional, prefix it with an underscore: `_input`",
      "\u001b[38;5;246m───╯\u001b[0m"
     ]
    }
   ],
   "source": [
    "// ref: https://learn.microsoft.com/en-us/training/modules/rust-memory-management/1-what-is-ownership\n",
    "fn process(input: String) {}\n",
    "\n",
    "fn caller() {\n",
    "    let s = String::from(\"Hello, world!\");\n",
    "    process(s); // Ownership of the string in `s` moved into `process`\n",
    "    process(s); // Error! ownership already moved.\n",
    "}"
   ]
  },
  {
   "cell_type": "markdown",
   "metadata": {},
   "source": [
    "## Error-handling"
   ]
  },
  {
   "cell_type": "code",
   "execution_count": 39,
   "metadata": {
    "vscode": {
     "languageId": "rust"
    }
   },
   "outputs": [
    {
     "name": "stderr",
     "output_type": "stream",
     "text": [
      "thread '<unnamed>' panicked at src/lib.rs:163:17:\n",
      "File not found: No such file or directory (os error 2)\n",
      "stack backtrace:\n",
      "   0: _rust_begin_unwind\n",
      "   1: core::panicking::panic_fmt\n",
      "   2: <unknown>\n",
      "   3: <unknown>\n",
      "   4: evcxr::runtime::Runtime::run_loop\n",
      "   5: evcxr::runtime::runtime_hook\n",
      "   6: evcxr_jupyter::main\n",
      "note: Some details are omitted, run with `RUST_BACKTRACE=full` for a verbose backtrace.\n"
     ]
    }
   ],
   "source": [
    "use std::fs::File;\n",
    "use std::io::{BufRead, BufReader};\n",
    "\n",
    "\n",
    "let file = File::open(\"non_existent_file.txt\");\n",
    "let file = match file {\n",
    "    Ok(file) => file,\n",
    "    Err(error) => {\n",
    "        match error.kind() {\n",
    "            std::io::ErrorKind::NotFound => {\n",
    "                panic!(\"File not found: {}\", error)\n",
    "            }\n",
    "            _ => {\n",
    "                panic!(\"Error opening file: {}\", error)\n",
    "            }\n",
    "        }\n",
    "    }\n",
    "};\n"
   ]
  },
  {
   "cell_type": "markdown",
   "metadata": {},
   "source": [
    "### Associated function"
   ]
  },
  {
   "cell_type": "markdown",
   "metadata": {},
   "source": [
    "In Rust, structs don’t have constructors like in some other languages. Instead, you typically define an associated function (often named new) within an impl block to serve as a constructor. This function initializes the struct’s fields with the provided arguments and returns a new instance of the struct."
   ]
  },
  {
   "cell_type": "code",
   "execution_count": 49,
   "metadata": {
    "vscode": {
     "languageId": "rust"
    }
   },
   "outputs": [
    {
     "name": "stdout",
     "output_type": "stream",
     "text": [
      "Username: username123\n",
      "Email: user@example.com\n",
      "Profile URI: http://example.com/profile\n",
      "Active: true\n"
     ]
    }
   ],
   "source": [
    "pub struct User {\n",
    "    pub username: String,\n",
    "    pub email: String,\n",
    "    pub uri: String,\n",
    "    pub active: bool,\n",
    "}\n",
    "\n",
    "impl User {\n",
    "    pub fn new(username: String, email: String, uri: String, active: bool) -> Self {\n",
    "        User {\n",
    "            username,\n",
    "            email,\n",
    "            uri,\n",
    "            active,\n",
    "        }\n",
    "    }\n",
    "}\n",
    "\n",
    "\n",
    "// Create a new User instance using the new constructor.\n",
    "let user = User::new(\n",
    "    String::from(\"username123\"),\n",
    "    String::from(\"user@example.com\"),\n",
    "    String::from(\"http://example.com/profile\"),\n",
    "    true,\n",
    ");\n",
    "\n",
    "// Example usage of the User instance.\n",
    "println!(\"Username: {}\", user.username);\n",
    "println!(\"Email: {}\", user.email);\n",
    "println!(\"Profile URI: {}\", user.uri);\n",
    "println!(\"Active: {}\", user.active);"
   ]
  },
  {
   "cell_type": "markdown",
   "metadata": {},
   "source": []
  },
  {
   "cell_type": "markdown",
   "metadata": {},
   "source": [
    "## Option as a Type"
   ]
  },
  {
   "cell_type": "code",
   "execution_count": null,
   "metadata": {
    "vscode": {
     "languageId": "rust"
    }
   },
   "outputs": [
    {
     "name": "stdout",
     "output_type": "stream",
     "text": [
      "Age is 25\n"
     ]
    },
    {
     "data": {
      "text/plain": [
       "()"
      ]
     },
     "metadata": {},
     "output_type": "display_data"
    }
   ],
   "source": [
    "let age: Option<u8> = Some(25);\n",
    "match age {\n",
    "    Some(x) => println!(\"Age is {}\", x),\n",
    "    None => println!(\"No age provided\"),\n",
    "}"
   ]
  },
  {
   "cell_type": "markdown",
   "metadata": {},
   "source": [
    "## Struct \n",
    "\n",
    "Python dataclass equilevant"
   ]
  },
  {
   "cell_type": "markdown",
   "metadata": {},
   "source": [
    "### Basic Struct example"
   ]
  },
  {
   "cell_type": "code",
   "execution_count": 52,
   "metadata": {
    "vscode": {
     "languageId": "rust"
    }
   },
   "outputs": [
    {
     "name": "stdout",
     "output_type": "stream",
     "text": [
      "Product { name: \"Gadget\", price: 29.99 }\n"
     ]
    }
   ],
   "source": [
    "#[derive(Debug, PartialEq)]\n",
    "struct Product {\n",
    "    name: String,\n",
    "    price: f64,\n",
    "}\n",
    "\n",
    "// Create an instance of Product\n",
    "let product = Product {\n",
    "    name: String::from(\"Gadget\"),\n",
    "    price: 29.99,\n",
    "};\n",
    "\n",
    "// Print the product details\n",
    "println!(\"{:?}\", product);"
   ]
  },
  {
   "cell_type": "code",
   "execution_count": 7,
   "metadata": {
    "vscode": {
     "languageId": "rust"
    }
   },
   "outputs": [
    {
     "name": "stdout",
     "output_type": "stream",
     "text": [
      "The person's name is Selman\n"
     ]
    }
   ],
   "source": [
    "#[derive(Debug, PartialEq)]\n",
    "struct Person {\n",
    "    first_name: String,\n",
    "    last_name: String,\n",
    "    age: Option<i32>,\n",
    "}\n",
    "\n",
    "let p = Person {\n",
    "    first_name: \"Selman\".to_string(),\n",
    "    last_name: \"Karaosmanoglu\".to_string(),\n",
    "    age: Some(30),\n",
    "};\n",
    "println!(\"The person's name is {}\", p.first_name);"
   ]
  },
  {
   "cell_type": "code",
   "execution_count": 8,
   "metadata": {
    "vscode": {
     "languageId": "rust"
    }
   },
   "outputs": [
    {
     "name": "stdout",
     "output_type": "stream",
     "text": [
      "Car { make: \"Tesla\", model: \"Model S\", color: \"Red\", active: true }\n"
     ]
    }
   ],
   "source": [
    "#[derive(Debug, PartialEq)]\n",
    "struct Car {\n",
    "    make: String,\n",
    "    model: String,\n",
    "    color: String,\n",
    "    active: bool,\n",
    "}\n",
    "\n",
    "impl Car {\n",
    "    fn new(make: String, model: String, color: String) -> Car {\n",
    "        Car { make, model, color, active: true }\n",
    "    }\n",
    "}\n",
    "\n",
    "let new_car = Car::new(\"Tesla\".to_string(), \"Model S\".to_string(), \"Red\".to_string());\n",
    "\n",
    "println!(\"{:?}\", new_car);"
   ]
  },
  {
   "cell_type": "code",
   "execution_count": 10,
   "metadata": {
    "vscode": {
     "languageId": "rust"
    }
   },
   "outputs": [
    {
     "name": "stdout",
     "output_type": "stream",
     "text": [
      "Car { make: \"Tesla\", model: \"Model S\", color: \"Red\", active: true }\n",
      "Car { make: \"Tesla\", model: \"Model S\", color: \"Red\", active: false }\n"
     ]
    }
   ],
   "source": [
    "#[derive(Debug, PartialEq)]\n",
    "struct Car {\n",
    "    make: String,\n",
    "    model: String,\n",
    "    color: String,\n",
    "    active: bool,\n",
    "}\n",
    "\n",
    "impl Car {\n",
    "    fn new(make: String, model: String, color: String) -> Self {\n",
    "        Self { make, model, color, active: true }\n",
    "    }\n",
    "\n",
    "    fn deactivate(&mut self) {\n",
    "        self.active = false;\n",
    "    }\n",
    "}\n",
    "\n",
    "let mut new_car = Car::new(\"Tesla\".to_string(), \"Model S\".to_string(), \"Red\".to_string());\n",
    "\n",
    "println!(\"{:?}\", new_car);\n",
    "new_car.deactivate();\n",
    "println!(\"{:?}\", new_car);"
   ]
  },
  {
   "cell_type": "code",
   "execution_count": 14,
   "metadata": {
    "vscode": {
     "languageId": "rust"
    }
   },
   "outputs": [
    {
     "data": {
      "text/plain": [
       "Car { make: \"Mercedes\", model: \"EQS\", color: \"grey\", active: true }"
      ]
     },
     "execution_count": 14,
     "metadata": {},
     "output_type": "execute_result"
    }
   ],
   "source": [
    "let make = String::from(\"Mercedes\");\n",
    "let model = String::from(\"EQS\");\n",
    "let color = String::from(\"grey\");\n",
    "let active = true;\n",
    "let another_car = Car{make,model,color,active };\n",
    "another_car"
   ]
  },
  {
   "cell_type": "code",
   "execution_count": 12,
   "metadata": {
    "vscode": {
     "languageId": "rust"
    }
   },
   "outputs": [
    {
     "data": {
      "text/plain": [
       "10"
      ]
     },
     "execution_count": 12,
     "metadata": {},
     "output_type": "execute_result"
    }
   ],
   "source": [
    "struct Point(i32,i32,i32);\n",
    "\n",
    "let new_point = Point(10,20,30);\n",
    "new_point.0"
   ]
  },
  {
   "cell_type": "markdown",
   "metadata": {},
   "source": [
    "## Strings"
   ]
  },
  {
   "cell_type": "markdown",
   "metadata": {},
   "source": [
    "### Slice"
   ]
  },
  {
   "cell_type": "code",
   "execution_count": 24,
   "metadata": {
    "vscode": {
     "languageId": "rust"
    }
   },
   "outputs": [
    {
     "name": "stdout",
     "output_type": "stream",
     "text": [
      "String slice: Hello, world!\n",
      "String slice: Hello, world!\n"
     ]
    }
   ],
   "source": [
    "// Creating a string slice from a literal string\n",
    "let hello: &str = \"Hello, world!\";\n",
    "println!(\"String slice: {}\", hello);\n",
    "println!(\"String slice: {}\", hello);"
   ]
  },
  {
   "cell_type": "markdown",
   "metadata": {},
   "source": [
    "### Vectors\n",
    "Python list equilevant"
   ]
  },
  {
   "cell_type": "code",
   "execution_count": 25,
   "metadata": {
    "vscode": {
     "languageId": "rust"
    }
   },
   "outputs": [
    {
     "name": "stdout",
     "output_type": "stream",
     "text": [
      "Vector: [1, 2, 3]\n"
     ]
    }
   ],
   "source": [
    "let mut numbers: Vec<i32> = Vec::new();\n",
    "numbers.push(1);\n",
    "numbers.push(2);\n",
    "numbers.push(3);\n",
    "println!(\"Vector: {:?}\", numbers);"
   ]
  },
  {
   "cell_type": "code",
   "execution_count": 26,
   "metadata": {
    "vscode": {
     "languageId": "rust"
    }
   },
   "outputs": [
    {
     "name": "stdout",
     "output_type": "stream",
     "text": [
      "String: Hello, world!\n",
      "String: Hello, world!\n"
     ]
    }
   ],
   "source": [
    "// Creating a string using the `String::from()` method\n",
    "let mut greeting = String::from(\"Hello\");\n",
    "greeting.push_str(\", world!\");\n",
    "println!(\"String: {}\", greeting);\n",
    "println!(\"String: {}\", greeting);"
   ]
  },
  {
   "cell_type": "code",
   "execution_count": 29,
   "metadata": {
    "vscode": {
     "languageId": "rust"
    }
   },
   "outputs": [
    {
     "data": {
      "text/plain": [
       "\"Hello, world! another string\""
      ]
     },
     "execution_count": 29,
     "metadata": {},
     "output_type": "execute_result"
    }
   ],
   "source": [
    "// Using format to convert &str to String\n",
    "let hello: &str = \"Hello, world!\";\n",
    "format!(\"{} another string\", hello)"
   ]
  },
  {
   "cell_type": "markdown",
   "metadata": {},
   "source": [
    "### Slicing"
   ]
  },
  {
   "cell_type": "code",
   "execution_count": 32,
   "metadata": {
    "vscode": {
     "languageId": "rust"
    }
   },
   "outputs": [
    {
     "name": "stdout",
     "output_type": "stream",
     "text": [
      "First three characters: Thi\n"
     ]
    },
    {
     "name": "stdout",
     "output_type": "stream",
     "text": [
      "First three characters: Thi\n"
     ]
    }
   ],
   "source": [
    "let sentence = \"This is a sentence\";\n",
    "// Use slicing to get the first three characters of the sentence\n",
    "let first_three = &sentence[0..3];\n",
    "println!(\"First three characters: {}\", first_three);"
   ]
  },
  {
   "cell_type": "markdown",
   "metadata": {},
   "source": [
    "### String match"
   ]
  },
  {
   "cell_type": "code",
   "execution_count": 35,
   "metadata": {
    "vscode": {
     "languageId": "rust"
    }
   },
   "outputs": [
    {
     "name": "stdout",
     "output_type": "stream",
     "text": [
      "Found vowel i\n",
      "Found vowel i\n",
      "Found vowel a\n",
      "Found vowel e\n",
      "Found vowel e\n",
      "Found vowel e\n"
     ]
    },
    {
     "data": {
      "text/plain": [
       "()"
      ]
     },
     "execution_count": 35,
     "metadata": {},
     "output_type": "execute_result"
    }
   ],
   "source": [
    "let sentence = \"This is a sentence\";\n",
    "for c in sentence.chars() {\n",
    "    // match c vowel then print found vowel using match clause\n",
    "    match c {\n",
    "        'a' | 'e' | 'i' | 'o' | 'u' => println!(\"Found vowel {}\", c),\n",
    "        _ => continue,\n",
    "    }\n",
    "}"
   ]
  },
  {
   "cell_type": "markdown",
   "metadata": {},
   "source": [
    "### Split"
   ]
  },
  {
   "cell_type": "code",
   "execution_count": 36,
   "metadata": {
    "vscode": {
     "languageId": "rust"
    }
   },
   "outputs": [
    {
     "name": "stdout",
     "output_type": "stream",
     "text": [
      "[\"This\", \"is\", \"a\", \"sentence.\"]\n"
     ]
    }
   ],
   "source": [
    "// Split the sentence\n",
    "fn split_sentence(sentence: &str) -> Vec<&str> {\n",
    "    sentence.split_whitespace().collect()\n",
    "}\n",
    "\n",
    "let sentence = \"This is a sentence.\";\n",
    "let words = split_sentence(sentence);\n",
    "println!(\"{:?}\", words);"
   ]
  },
  {
   "cell_type": "markdown",
   "metadata": {},
   "source": [
    "### Reverse String"
   ]
  },
  {
   "cell_type": "code",
   "execution_count": 38,
   "metadata": {
    "vscode": {
     "languageId": "rust"
    }
   },
   "outputs": [
    {
     "data": {
      "text/plain": [
       "\"ecnetnes si sihT\""
      ]
     },
     "execution_count": 38,
     "metadata": {},
     "output_type": "execute_result"
    }
   ],
   "source": [
    "let sentence = \"This is sentence\";\n",
    "let reversed = sentence.chars().rev().collect::<String>();\n",
    "reversed"
   ]
  },
  {
   "cell_type": "markdown",
   "metadata": {},
   "source": [
    "## Vectors"
   ]
  },
  {
   "cell_type": "code",
   "execution_count": 40,
   "metadata": {
    "vscode": {
     "languageId": "rust"
    }
   },
   "outputs": [
    {
     "name": "stdout",
     "output_type": "stream",
     "text": [
      "[1, 2, 3, 4]\n"
     ]
    }
   ],
   "source": [
    "let mut v = vec![1, 2, 3];\n",
    "v.push(4);\n",
    "println!(\"{:?}\", v);"
   ]
  },
  {
   "cell_type": "code",
   "execution_count": 42,
   "metadata": {
    "vscode": {
     "languageId": "rust"
    }
   },
   "outputs": [
    {
     "data": {
      "text/plain": [
       "[1, 2, 3, 4, 5, 6]"
      ]
     },
     "execution_count": 42,
     "metadata": {},
     "output_type": "execute_result"
    }
   ],
   "source": [
    "let more_numbers = vec![5,6];\n",
    "v.extend(more_numbers);\n",
    "v"
   ]
  },
  {
   "cell_type": "code",
   "execution_count": 43,
   "metadata": {
    "vscode": {
     "languageId": "rust"
    }
   },
   "outputs": [
    {
     "data": {
      "text/plain": [
       "[1, 2, 3, 4, 5, 6, 7, 8]"
      ]
     },
     "execution_count": 43,
     "metadata": {},
     "output_type": "execute_result"
    }
   ],
   "source": [
    "let mut other_numbers = vec![7,8];\n",
    "v.append(&mut other_numbers);\n",
    "v"
   ]
  },
  {
   "cell_type": "code",
   "execution_count": 46,
   "metadata": {
    "vscode": {
     "languageId": "rust"
    }
   },
   "outputs": [
    {
     "data": {
      "text/plain": [
       "[0, 0, 1, 2, 3, 4, 5, 6, 7, 8]"
      ]
     },
     "execution_count": 46,
     "metadata": {},
     "output_type": "execute_result"
    }
   ],
   "source": [
    "v.insert(0,0);\n",
    "v"
   ]
  },
  {
   "cell_type": "markdown",
   "metadata": {},
   "source": [
    "## Tuple\n",
    "ref: https://learn.microsoft.com/en-gb/training/modules/rust-create-program/4-tuples-structs\n",
    "\n",
    "A tuple is a collection of values of different types. The data type is based on the data types of its elements, and the length is fixed based on the number of elements.\n",
    "\n",
    "Each field in a classic struct has a name and a data type. The fields in a tuple struct don't have names.\n"
   ]
  },
  {
   "cell_type": "code",
   "execution_count": 2,
   "metadata": {
    "vscode": {
     "languageId": "rust"
    }
   },
   "outputs": [
    {
     "name": "stdout",
     "output_type": "stream",
     "text": [
      "Is 'E' the 5th letter of the alphabet? true\n"
     ]
    }
   ],
   "source": [
    "// Declare a tuple of three elements\n",
    "let tuple_e = ('E', 5i32, true);\n",
    "\n",
    "// Use tuple indexing and show the values of the elements in the tuple\n",
    "println!(\"Is '{}' the {}th letter of the alphabet? {}\", tuple_e.0, tuple_e.1, tuple_e.2);"
   ]
  },
  {
   "cell_type": "markdown",
   "metadata": {},
   "source": [
    "## Enums and variants"
   ]
  },
  {
   "cell_type": "code",
   "execution_count": 47,
   "metadata": {
    "vscode": {
     "languageId": "rust"
    }
   },
   "outputs": [
    {
     "name": "stdout",
     "output_type": "stream",
     "text": [
      "SSD\n"
     ]
    },
    {
     "data": {
      "text/plain": [
       "()"
      ]
     },
     "execution_count": 47,
     "metadata": {},
     "output_type": "execute_result"
    }
   ],
   "source": [
    "enum DiskType {\n",
    "    SSD,\n",
    "    HDD,\n",
    "}\n",
    "\n",
    "let disk_type = DiskType::SSD;\n",
    "match disk_type {\n",
    "    DiskType::SSD => println!(\"SSD\"),\n",
    "    DiskType::HDD => println!(\"HDD\"),\n",
    "}"
   ]
  },
  {
   "cell_type": "code",
   "execution_count": 48,
   "metadata": {
    "vscode": {
     "languageId": "rust"
    }
   },
   "outputs": [
    {
     "name": "stdout",
     "output_type": "stream",
     "text": [
      "1024 MB\n"
     ]
    },
    {
     "data": {
      "text/plain": [
       "()"
      ]
     },
     "execution_count": 48,
     "metadata": {},
     "output_type": "execute_result"
    }
   ],
   "source": [
    "enum DiskSize {\n",
    "    KB(u32),\n",
    "    MB(u32),\n",
    "    GB(u32),\n",
    "    TB(u32),\n",
    "}\n",
    "\n",
    "let disk_size = DiskSize::MB(1024);\n",
    "match disk_size {\n",
    "    DiskSize::KB(size) => println!(\"{} KB\", size),\n",
    "    DiskSize::MB(size) => println!(\"{} MB\", size),\n",
    "    DiskSize::GB(size) => println!(\"{} GB\", size),\n",
    "    DiskSize::TB(size) => println!(\"{} TB\", size),\n",
    "}"
   ]
  },
  {
   "cell_type": "markdown",
   "metadata": {},
   "source": [
    "### Enum as a type"
   ]
  },
  {
   "cell_type": "code",
   "execution_count": 50,
   "metadata": {
    "vscode": {
     "languageId": "rust"
    }
   },
   "outputs": [
    {
     "name": "stdout",
     "output_type": "stream",
     "text": [
      "rect is Rectangle { width: 30, height: 50, color: \"blue\", shape: Square, position: Center }\n"
     ]
    },
    {
     "data": {
      "text/plain": [
       "()"
      ]
     },
     "execution_count": 50,
     "metadata": {},
     "output_type": "execute_result"
    },
    {
     "name": "stdout",
     "output_type": "stream",
     "text": [
      "Square\n"
     ]
    }
   ],
   "source": [
    "// Usin Enum type in struct example\n",
    "#[derive(Debug)]\n",
    "struct Rectangle {\n",
    "    width: u32,\n",
    "    height: u32,\n",
    "    color: String,\n",
    "    // enum type\n",
    "    shape: Shape,\n",
    "    // enum type\n",
    "    position: Position,\n",
    "}\n",
    "// enum type\n",
    "#[derive(Debug)]\n",
    "enum Shape {\n",
    "    Square,\n",
    "    Rectangle,\n",
    "    Circle,\n",
    "    Triangle,\n",
    "}\n",
    "// enum type\n",
    "#[derive(Debug)]\n",
    "enum Position {\n",
    "    Left,\n",
    "    Right,\n",
    "    Top,\n",
    "    Bottom,\n",
    "    Center,\n",
    "    None,\n",
    "}\n",
    "\n",
    "let rect = Rectangle {\n",
    "    width: 30,\n",
    "    height: 50,\n",
    "    color: String::from(\"blue\"),\n",
    "    shape: Shape::Square,\n",
    "    position: Position::Center,\n",
    "};\n",
    "println!(\"rect is {:?}\", rect);\n",
    "match rect.shape {\n",
    "    Shape::Square => println!(\"Square\"),\n",
    "    Shape::Rectangle => println!(\"Rectangle\"),\n",
    "    Shape::Circle => println!(\"Circle\"),\n",
    "    Shape::Triangle => println!(\"Triangle\"),\n",
    "}"
   ]
  },
  {
   "cell_type": "markdown",
   "metadata": {},
   "source": [
    "### The Option Enum"
   ]
  },
  {
   "cell_type": "code",
   "execution_count": 60,
   "metadata": {
    "vscode": {
     "languageId": "rust"
    }
   },
   "outputs": [
    {
     "name": "stdout",
     "output_type": "stream",
     "text": [
      "Cannot divide by zero\n",
      "Result: 15\n",
      "15\n"
     ]
    }
   ],
   "source": [
    "// Divide function with Option\n",
    "fn divide(a: i32, b: i32) -> Option<i32> {\n",
    "    if b == 0 {\n",
    "        None\n",
    "    } else {\n",
    "        Some(a / b)\n",
    "    }\n",
    "}\n",
    "\n",
    "let a = 10;\n",
    "let b = 0;\n",
    "\n",
    "let result = divide(a, b);\n",
    "\n",
    "// Function of the result match\n",
    "fn result_match(result: Option<i32>) {\n",
    "    match result {\n",
    "        Some(x) => println!(\"Result: {}\", x),\n",
    "        None => println!(\"Cannot divide by zero\"),\n",
    "    }\n",
    "}\n",
    "\n",
    "result_match(result);\n",
    "\n",
    "let result = divide(30,2);\n",
    "\n",
    "result_match(result);\n",
    "\n",
    "// unwrap is dangerous. If result is none it goes into panic\n",
    "println!(\"{}\",result.unwrap());"
   ]
  },
  {
   "cell_type": "markdown",
   "metadata": {},
   "source": [
    "### Enum match example"
   ]
  },
  {
   "cell_type": "code",
   "execution_count": 75,
   "metadata": {
    "vscode": {
     "languageId": "rust"
    }
   },
   "outputs": [
    {
     "name": "stdout",
     "output_type": "stream",
     "text": [
      "6.89 GB\n",
      "1.00 KB\n",
      "Kilobytes(1.024)\n"
     ]
    }
   ],
   "source": [
    "/// This module provides utilities for representing and formatting file sizes in a human-readable format.\n",
    "/// It defines an enum `FileSize` with variants for bytes, kilobytes, megabytes, and gigabytes,\n",
    "/// and a function `format_size` that takes a file size in bytes and returns a formatted string.\n",
    "#[derive(Debug)]\n",
    "enum FileSize {\n",
    "    Bytes(u64),\n",
    "    Kilobytes(f64),\n",
    "    Megabytes(f64),\n",
    "    Gigabytes(f64),\n",
    "}\n",
    "\n",
    "/// Converts a file size in bytes to a more readable format (KB, MB, GB).\n",
    "///\n",
    "/// # Arguments\n",
    "///\n",
    "/// * `size` - The size of the file in bytes.\n",
    "///\n",
    "/// # Examples\n",
    "///\n",
    "/// ```\n",
    "/// let readable_filesize = convert_size(1024);\n",
    "/// assert_eq!(readable_filesize, FileSize::Kilobytes(1.0));\n",
    "/// ```\n",
    "fn convert_size(size: u64) -> FileSize {\n",
    "    match size {\n",
    "        0..=999 => FileSize::Bytes(size),\n",
    "        1000..=999_999 => FileSize::Kilobytes(size as f64 / 1000.0),\n",
    "        1_000_000..=999_999_999 => FileSize::Megabytes(size as f64 / 1_000_000.0),\n",
    "        _ => FileSize::Gigabytes(size as f64 / 1_000_000_000.0),\n",
    "    }\n",
    "}\n",
    "\n",
    "/// Formats the `FileSize` enum to a string representation.\n",
    "///\n",
    "/// # Arguments\n",
    "///\n",
    "/// * `filesize` - The `FileSize` enum variant to format.\n",
    "///\n",
    "/// # Examples\n",
    "///\n",
    "/// ```\n",
    "/// let formatted_size = format_file_size(FileSize::Kilobytes(1.0));\n",
    "/// assert_eq!(formatted_size, \"1.00 KB\");\n",
    "/// ```\n",
    "fn format_file_size(filesize: FileSize) -> String {\n",
    "    match filesize {\n",
    "        FileSize::Bytes(bytes) => format!(\"{} bytes\", bytes),\n",
    "        FileSize::Kilobytes(kb) => format!(\"{:.2} KB\", kb),\n",
    "        FileSize::Megabytes(mb) => format!(\"{:.2} MB\", mb),\n",
    "        FileSize::Gigabytes(gb) => format!(\"{:.2} GB\", gb),\n",
    "    }\n",
    "}\n",
    "\n",
    "let formatted_size = format_file_size(convert_size(6888837312));\n",
    "println!(\"{}\", formatted_size);\n",
    "let formatted_size = format_file_size(FileSize::Kilobytes(1.0));\n",
    "println!(\"{}\", formatted_size);\n",
    "let converted_size =  convert_size(1024);\n",
    "println!(\"{:?}\", converted_size);"
   ]
  },
  {
   "cell_type": "markdown",
   "metadata": {},
   "source": [
    "### Enum match example with impl"
   ]
  },
  {
   "cell_type": "code",
   "execution_count": 76,
   "metadata": {
    "vscode": {
     "languageId": "rust"
    }
   },
   "outputs": [
    {
     "name": "stdout",
     "output_type": "stream",
     "text": [
      "1024 bytes\n"
     ]
    },
    {
     "data": {
      "text/plain": [
       "()"
      ]
     },
     "execution_count": 76,
     "metadata": {},
     "output_type": "execute_result"
    }
   ],
   "source": [
    "enum FileSize {\n",
    "    Bytes(u64),\n",
    "    Kilobytes(f64),\n",
    "    Megabytes(f64),\n",
    "    Gigabytes(f64),\n",
    "}\n",
    "\n",
    "impl FileSize {\n",
    "    fn format_size(&self) -> String {\n",
    "        match self {\n",
    "            FileSize::Bytes(b) => format!(\"{} bytes\", b),\n",
    "            FileSize::Kilobytes(kb) => format!(\"{} kilobytes\", kb),\n",
    "            FileSize::Megabytes(mb) => format!(\"{} megabytes\", mb),\n",
    "            FileSize::Gigabytes(gb) => format!(\"{} gigabytes\", gb),\n",
    "        }\n",
    "    }\n",
    "}\n",
    "fn main() {\n",
    "    let file_size = FileSize::Bytes(1024);\n",
    "    println!(\"{}\", file_size.format_size());\n",
    "}\n",
    "\n",
    "main()"
   ]
  },
  {
   "cell_type": "markdown",
   "metadata": {},
   "source": [
    "### Enum with trait and struct"
   ]
  },
  {
   "cell_type": "code",
   "execution_count": 2,
   "metadata": {
    "vscode": {
     "languageId": "rust"
    }
   },
   "outputs": [
    {
     "name": "stdout",
     "output_type": "stream",
     "text": [
      "Total area: 87.54 sq. units\n"
     ]
    },
    {
     "data": {
      "text/plain": [
       "()"
      ]
     },
     "execution_count": 2,
     "metadata": {},
     "output_type": "execute_result"
    }
   ],
   "source": [
    "// Define a trait for a shape that can calculate its own area\n",
    "trait Area {\n",
    "    fn area(&self) -> f64;\n",
    "}\n",
    "\n",
    "// Define structs for Circle and Square\n",
    "struct Circle {\n",
    "    radius: f64,\n",
    "}\n",
    "\n",
    "struct Square {\n",
    "    length: f64,\n",
    "}\n",
    "\n",
    "// Implement the Area trait for Circle\n",
    "impl Area for Circle {\n",
    "    fn area(&self) -> f64 {\n",
    "        std::f64::consts::PI * self.radius.powi(2)\n",
    "    }\n",
    "}\n",
    "\n",
    "// Implement the Area trait for Square\n",
    "impl Area for Square {\n",
    "    fn area(&self) -> f64 {\n",
    "        self.length.powi(2)\n",
    "    }\n",
    "}\n",
    "\n",
    "// Use an enum to allow a single vector to contain different shapes\n",
    "enum Shape {\n",
    "    Circle(Circle),\n",
    "    Square(Square),\n",
    "}\n",
    "\n",
    "fn main() {\n",
    "    let shapes = vec![\n",
    "        Shape::Circle(Circle { radius: 5.0 }),\n",
    "        Shape::Square(Square { length: 3.0 }),\n",
    "    ];\n",
    "\n",
    "    let total_area: f64 = shapes\n",
    "        .iter()\n",
    "        .map(|shape| match shape {\n",
    "            Shape::Circle(circle) => circle.area(),\n",
    "            Shape::Square(square) => square.area(),\n",
    "        })\n",
    "        .sum();\n",
    "\n",
    "    println!(\"Total area: {:.2} sq. units\", total_area);\n",
    "}\n",
    "main()"
   ]
  },
  {
   "cell_type": "markdown",
   "metadata": {},
   "source": [
    "### Exhaustive match"
   ]
  },
  {
   "cell_type": "code",
   "execution_count": 7,
   "metadata": {
    "vscode": {
     "languageId": "rust"
    }
   },
   "outputs": [
    {
     "name": "stdout",
     "output_type": "stream",
     "text": [
      "The city is not Denizli\n"
     ]
    },
    {
     "data": {
      "text/plain": [
       "()"
      ]
     },
     "execution_count": 7,
     "metadata": {},
     "output_type": "execute_result"
    }
   ],
   "source": [
    "// Exhaustive match example\n",
    "enum Cities {\n",
    "    Denizli,\n",
    "    Istanbul,\n",
    "    Amsterdam,\n",
    "}\n",
    "\n",
    "let city = Cities::Amsterdam;\n",
    "\n",
    "match city {\n",
    "    Cities::Denizli => println!(\"The city is Denizli\"),\n",
    "    _ => println!(\"The city is not Denizli\")\n",
    "}908"
   ]
  }
 ],
 "metadata": {
  "kernelspec": {
   "display_name": "Rust",
   "language": "rust",
   "name": "rust"
  },
  "language_info": {
   "codemirror_mode": "rust",
   "file_extension": ".rs",
   "mimetype": "text/rust",
   "name": "Rust",
   "pygment_lexer": "rust",
   "version": ""
  }
 },
 "nbformat": 4,
 "nbformat_minor": 2
}
